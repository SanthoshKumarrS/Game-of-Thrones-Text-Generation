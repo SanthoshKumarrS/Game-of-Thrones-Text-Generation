{
  "nbformat": 4,
  "nbformat_minor": 0,
  "metadata": {
    "colab": {
      "provenance": [],
      "gpuType": "T4",
      "authorship_tag": "ABX9TyM8Xc34Kn6Qu/GAJyQACLEp",
      "include_colab_link": true
    },
    "kernelspec": {
      "name": "python3",
      "display_name": "Python 3"
    },
    "language_info": {
      "name": "python"
    },
    "accelerator": "GPU"
  },
  "cells": [
    {
      "cell_type": "markdown",
      "metadata": {
        "id": "view-in-github",
        "colab_type": "text"
      },
      "source": [
        "<a href=\"https://colab.research.google.com/github/SanthoshKumarrS/Game-of-Thrones-Text-Generation/blob/main/Fine%20tuning%20GPT2/GPT2_notebook.ipynb\" target=\"_parent\"><img src=\"https://colab.research.google.com/assets/colab-badge.svg\" alt=\"Open In Colab\"/></a>"
      ]
    },
    {
      "cell_type": "markdown",
      "source": [
        "# <span style=\"font-family:cursive;text-align:center\">⬇️ Importing Libraries<span>"
      ],
      "metadata": {
        "id": "2IuTKQWAne_Z"
      }
    },
    {
      "cell_type": "code",
      "execution_count": 2,
      "metadata": {
        "colab": {
          "base_uri": "https://localhost:8080/"
        },
        "id": "fOyEuhMILdiM",
        "outputId": "97d82098-dd8e-4943-a54d-e0e57af7030c"
      },
      "outputs": [
        {
          "output_type": "stream",
          "name": "stdout",
          "text": [
            "  Preparing metadata (setup.py) ... \u001b[?25l\u001b[?25hdone\n",
            "  Building wheel for gpt-2-simple (setup.py) ... \u001b[?25l\u001b[?25hdone\n"
          ]
        }
      ],
      "source": [
        "!pip install -q gpt-2-simple\n",
        "import gpt_2_simple as gpt2\n",
        "from datetime import datetime\n",
        "from google.colab import files\n",
        "import tensorflow as tf"
      ]
    },
    {
      "cell_type": "code",
      "source": [
        "#Downloading the Model\n",
        "\n",
        "gpt2.download_gpt2(model_name=\"124M\")"
      ],
      "metadata": {
        "colab": {
          "base_uri": "https://localhost:8080/"
        },
        "id": "Or_SBlo7LgdE",
        "outputId": "2f3ab47a-67f3-4a19-ba01-cf5e0e234976"
      },
      "execution_count": 3,
      "outputs": [
        {
          "output_type": "stream",
          "name": "stderr",
          "text": [
            "Fetching checkpoint: 1.05Mit [00:00, 3.32Git/s]                                                     \n",
            "Fetching encoder.json: 1.05Mit [00:00, 3.64Mit/s]\n",
            "Fetching hparams.json: 1.05Mit [00:00, 1.64Git/s]                                                   \n",
            "Fetching model.ckpt.data-00000-of-00001: 498Mit [00:07, 66.0Mit/s]                                  \n",
            "Fetching model.ckpt.index: 1.05Mit [00:00, 3.27Git/s]                                               \n",
            "Fetching model.ckpt.meta: 1.05Mit [00:00, 6.46Mit/s]\n",
            "Fetching vocab.bpe: 1.05Mit [00:00, 6.69Mit/s]\n"
          ]
        }
      ]
    },
    {
      "cell_type": "code",
      "source": [
        "gpt2.mount_gdrive()"
      ],
      "metadata": {
        "colab": {
          "base_uri": "https://localhost:8080/"
        },
        "id": "4osRCStYLiET",
        "outputId": "1606cdda-aa3a-4bfb-ea03-196e5c6b9fde"
      },
      "execution_count": 4,
      "outputs": [
        {
          "output_type": "stream",
          "name": "stdout",
          "text": [
            "Mounted at /content/drive\n"
          ]
        }
      ]
    },
    {
      "cell_type": "code",
      "source": [
        "file_name = \"/content/drive/MyDrive/got1.txt\""
      ],
      "metadata": {
        "id": "FrwVf82FLjdB"
      },
      "execution_count": 5,
      "outputs": []
    },
    {
      "cell_type": "markdown",
      "source": [
        "# <span style=\"font-family:cursive;text-align:center\">⚙️ Fine Tune GPT2 :</span>"
      ],
      "metadata": {
        "id": "CzGVI552nY2d"
      }
    },
    {
      "cell_type": "code",
      "source": [
        "tf.compat.v1.reset_default_graph()\n",
        "\n",
        "sess = gpt2.start_tf_sess()\n",
        "\n",
        "gpt2.finetune(sess,\n",
        "              dataset=file_name,\n",
        "              model_name='124M',\n",
        "              steps=1000,\n",
        "              restore_from='fresh',\n",
        "              run_name='run1',\n",
        "              print_every=10,\n",
        "              sample_every=200,\n",
        "              save_every=200\n",
        "              )"
      ],
      "metadata": {
        "colab": {
          "base_uri": "https://localhost:8080/"
        },
        "id": "hRAHG4btLknK",
        "outputId": "9759899e-7eda-4c3e-85b4-4ee2c7fd4659"
      },
      "execution_count": null,
      "outputs": [
        {
          "output_type": "stream",
          "name": "stdout",
          "text": [
            "Loading checkpoint models/124M/model.ckpt\n",
            "Loading dataset...\n"
          ]
        },
        {
          "output_type": "stream",
          "name": "stderr",
          "text": [
            "100%|██████████| 1/1 [00:03<00:00,  3.17s/it]\n"
          ]
        },
        {
          "output_type": "stream",
          "name": "stdout",
          "text": [
            "dataset has 433157 tokens\n",
            "Training...\n",
            "[10 | 27.96] loss=3.23 avg=3.23\n",
            "[20 | 49.95] loss=3.21 avg=3.22\n",
            "[30 | 72.41] loss=3.03 avg=3.15\n",
            "[40 | 94.68] loss=3.11 avg=3.14\n",
            "[50 | 116.75] loss=2.99 avg=3.11\n",
            "[60 | 138.96] loss=2.95 avg=3.08\n",
            "[70 | 161.26] loss=2.76 avg=3.04\n",
            "[80 | 183.47] loss=3.01 avg=3.03\n",
            "[90 | 205.67] loss=2.76 avg=3.00\n",
            "[100 | 227.86] loss=2.86 avg=2.99\n",
            "[110 | 250.07] loss=2.86 avg=2.97\n",
            "[120 | 272.30] loss=2.66 avg=2.95\n",
            "[130 | 294.53] loss=2.67 avg=2.92\n",
            "[140 | 316.74] loss=2.69 avg=2.91\n",
            "[150 | 338.96] loss=2.71 avg=2.89\n",
            "[160 | 361.14] loss=2.68 avg=2.88\n",
            "[170 | 383.34] loss=2.60 avg=2.86\n",
            "[180 | 405.52] loss=2.54 avg=2.84\n",
            "[190 | 427.70] loss=2.57 avg=2.82\n",
            "[200 | 449.87] loss=2.80 avg=2.82\n",
            "Saving checkpoint/run1/model-200\n",
            "======== SAMPLE 1 ========\n",
            " my brother's sword, and he took his own,\" she said, holding him by the legs. \n",
            "He sighed and bit his lip. \"I'm going to need a bath.\" \n",
            "Mormont smiled. \"Don't let anyone ruin your wine.\" \n",
            "He pushed himself to his feet, looking sleepy and tired. He was going to need a bath again, he told himself \n",
            "once he was up. \n",
            "He took out a wooden skewer and twisted it easily between his fingers. \"You have a bath, I will.\" \n",
            "It was cold as Stone Cane, and thick with cold. \"I like it, Maester Luwin, I should be glad of it, yet the cold is a \n",
            "disease which steals sleep from every man, so don't let it tear me from sleep.\" \n",
            "The maester was pale, but with the heat of the steel in his eyes, he smiled. \"Your \n",
            "wings are long and strong, my lord. They can be worn but they don't touch me.\" \n",
            "He reached out for one, but the steel pinched at his soft skin. The water splashed gently between \n",
            "his fingers and it was cold to have to put his hands on his bathrobes. \n",
            "Maester Luwin brushed his head against his soft-drink. \"I've been talking to your sister, m'lady, \n",
            "but no message has come from her, and no one we've known to bring forth her name. She can \n",
            "Page 112\n",
            "\n",
            "tell nothing of the crimes against me but what she says. Yet I hear of death, and she's made a different \n",
            "hope. I tell her of those who'd take the life of a man or the life of a woman but that's different. The \n",
            "hope is dead, and if not then they've never done the killing. A man never dies, \n",
            "no matter what death would do.\" \n",
            "Maester Luwin smiled. \"I remember.\" The steel pinched, and he looked to the air. \"How do you like it \n",
            "here? I'm a bit thirsty, my lord. A bit fluellant. I'd go in the shade. I'm a little quicker than I \n",
            "think. It stinks. Do you like it then?\" \n",
            "\"You're a handsome woman, my lord.\" \n",
            "\"We were born with swords in our hands. We've ever had the taste of them. We've been \n",
            "told not many deaths. You've not forgotten that. I recall being a boy.\" \n",
            "A boy? Yes, he seemed to like the way the blades touched, yet he could not put his finger on it. \n",
            "\"They have more power than women. Men have been hunting.\" \n",
            "\"Who's hunting?\" \n",
            "\"Men from all places, no doubt. They know where we stand.\" \n",
            "\"Yes, well, the gods give us strength. It did for me. And it does make me stronger. If you were such a fool, I \n",
            "will not do you any harm, so go your ways. You are to be my wife.\" \n",
            "Maester Luwin pulled Maester Luwin to a stop at the table. \"I do not have the courage to put up with this \n",
            "man, Maester. My wife will have you put down, and my sword.\" \n",
            "The maester's eyes widened. \"This is not who I am, little one. No man can ever kill you in cold blood. \n",
            "You will never harm me and I shall not harm you, my lord.\" \n",
            "Maester Luwin laughed. \"And what of my brother?\" \n",
            "\"What brother? He's my sister Maester.\" \n",
            "\"I'm a child. His name's Casterly Rock.\" \n",
            "\"Casterly Rock, the son of Casterloft. They've been riding forth for ten thousand years, long and \n",
            "lost, but that makes them men. Casterloft is the father of the sun and its monsters. They \n",
            "have fought the battles, fought as good as ever. I am the sun and I am a child.\" \n",
            "Maester Luwin chewed on his breakfast bread. \"If this moon is made of steel, what is it? Stone and \n",
            "steel, I am the lion and the godswife of the world, the father of dragons and other gods ... and I think \n",
            "that we've done our part.\" \n",
            "Page 113\n",
            "\n",
            "Casterly Rock was a city of men and stones. Where the sun died and stone rose, Casterloft stood \n",
            "before them, the world shone and the sun shone in its crown, yet there was fear in the face of all that stone. \n",
            "\"You are a lion,\" Casterloft said to him, his voice low and wan\n",
            "\n",
            "[210 | 486.46] loss=2.61 avg=2.81\n",
            "[220 | 508.72] loss=2.47 avg=2.80\n",
            "[230 | 530.91] loss=2.49 avg=2.78\n",
            "[240 | 553.07] loss=2.74 avg=2.78\n",
            "[250 | 575.29] loss=2.48 avg=2.77\n",
            "[260 | 597.54] loss=2.50 avg=2.75\n",
            "[270 | 619.74] loss=2.43 avg=2.74\n",
            "[280 | 641.91] loss=2.44 avg=2.73\n",
            "[290 | 664.10] loss=2.47 avg=2.72\n",
            "[300 | 686.29] loss=2.13 avg=2.70\n",
            "[310 | 708.50] loss=2.39 avg=2.68\n",
            "[320 | 730.70] loss=2.23 avg=2.67\n",
            "[330 | 752.89] loss=2.11 avg=2.65\n",
            "[340 | 775.10] loss=2.29 avg=2.64\n",
            "[350 | 797.31] loss=2.03 avg=2.62\n",
            "[360 | 819.50] loss=2.29 avg=2.60\n",
            "[370 | 841.70] loss=2.22 avg=2.59\n",
            "[380 | 863.88] loss=2.26 avg=2.58\n",
            "[390 | 886.10] loss=2.26 avg=2.57\n",
            "[400 | 908.30] loss=2.02 avg=2.56\n",
            "Saving checkpoint/run1/model-400\n"
          ]
        },
        {
          "output_type": "stream",
          "name": "stderr",
          "text": [
            "WARNING:tensorflow:From /usr/local/lib/python3.10/dist-packages/tensorflow/python/training/saver.py:1067: remove_checkpoint (from tensorflow.python.checkpoint.checkpoint_management) is deprecated and will be removed in a future version.\n",
            "Instructions for updating:\n",
            "Use standard file APIs to delete files with this prefix.\n"
          ]
        },
        {
          "output_type": "stream",
          "name": "stdout",
          "text": [
            "======== SAMPLE 1 ========\n",
            " by the \n",
            "mockery. The old queen was as pale as a beggar, but still she talked in a \n",
            "queen's natural language, and when the gods heard, she opened her mouth to speak in another tongue, \n",
            "across the Seven Kingdoms, into the darkness of the night lands, into the realm beyond sight. \n",
            "She sang of the realms she loved; the Seven Kingdoms of Othor and Harrenhal and Highgarden and Casterly \n",
            "Swain, of House Harrenhal and the Seven Kingdoms of Casterly Rock and the Seven Kingdoms of Othor and \n",
            "Maegor's Gate, and of Lord Hali, and his father and his mother. \n",
            "\"Can she sing, little one?\" Arya asked. A few steps away, the knight's face caught by the stone of a \n",
            "stone went crumpled as he turned his head. Arya had to look first to the wood beside her \n",
            "and talk to the wooden reindeer, where their voices were too hushed to fail to attract notice. \n",
            "The knight turned his eyes on her. \"It is you, Your Grace, that is certain.\" \n",
            "Arya rose, and the knight looked her on. \"What of it?\" \n",
            "\"Nothing,\" Arya said, confused. She had known it, at first sight. She had known until then \n",
            "that this was where Arya should go. \n",
            "\"Are you certain now?\" the knight asked her. \n",
            "\"There is nothing certain,\" she lied. \"It is not known yet, but I will tell you now.\" She rose, shewn, and \n",
            "the knight followed her. \n",
            "It was not known then how often he rode his pony with his hands behind his back, through wood and \n",
            "grass, across empty fields and thickets, through woods and hills and rivers, then vanished again \n",
            "at the last second. He had his horses of his own, he had no plans to take her, he had no intent to \n",
            "smile, no plan to provoke. They rode alone, with her waiting, at a dead sound of steel on metal. By \n",
            "the time Arya got to her room, he had already stripped off his armor, slashed his boots down to the ground, wiped \n",
            "the blood from his boots and face, and pressed the boots into her hand. \n",
            "\"Do you know what you are doing, child?\" the knight asked her. \n",
            "Arya looked at him strangely, then straight at the knight. \"How many times have you ridden a pony?\" \n",
            "Page 139\n",
            "\n",
            "The knight looked at her doubtfully. \"In winter, the riders bring a feast. In summer, they take the \n",
            "trenchers. They ride alone, riding alone, alone.\" \n",
            "She didn't know what to say. She knew she looked brave. She had never felt so innocent. \n",
            "\"I suppose it is not known yet, but it was not known then till now.\" He gave her a sly grin and leaned heavily \n",
            "down. \"Do you think the gods will permit you to remain at Winterfell for a little longer?\" \n",
            "\"I do not believe so, my lady,\" the knight said. \n",
            "As they rode, Arya thought about the gods again. Arya thought how much she had changed in the days and \n",
            "wonders how much she had not changed in the days and wonders what else it might be . . . \n",
            ". The next morning, she had seen them again in her sleeping body, dressed in the white linen of the royal apartments of \n",
            "Winterfell. Arya had been lying where she had been buried, looking for them with a certain strange serenity that \n",
            "made her feel invisible. That serenity was a sign of good fortune. \n",
            "It was the first night Arya had been away, and the last time her mother had ever seen her would \n",
            "have been in summer, when Tyrion Lannister had pillaged her father's castles . . . only this time he had been \n",
            "much more forthcoming. She had wondered if he had been too brave. He said nothing. \n",
            "As the knights went riding back to their mounts, Arya went to see the queen. The queen stood at the foot of the \n",
            "stony high wall that separated Winterfell and the throne room north of it for a long moment. Even with every step \n",
            "she took, she was still shy and unruly. \"I don't like the sight of cats now,\" she said uncertainly, but \n",
            "her voice filled the castle with a certain sweetness. \n",
            "Page 140\n",
            "\n",
            "\"Cat,\" Arya corrected her, \"because you look so much like me.\" \n",
            "\"That is not true,\" the queen said. \"Cat, I wanted to ask you last,\" she finished reluctantly, \"but you chose\n",
            "\n",
            "[410 | 944.99] loss=2.05 avg=2.54\n",
            "[420 | 967.27] loss=1.88 avg=2.52\n",
            "[430 | 989.43] loss=2.24 avg=2.51\n",
            "[440 | 1011.60] loss=1.76 avg=2.49\n",
            "[450 | 1033.83] loss=1.84 avg=2.47\n",
            "[460 | 1056.10] loss=1.72 avg=2.45\n",
            "[470 | 1078.34] loss=1.45 avg=2.43\n",
            "[480 | 1100.60] loss=1.86 avg=2.41\n",
            "[490 | 1122.82] loss=1.73 avg=2.39\n",
            "[500 | 1145.05] loss=1.89 avg=2.38\n",
            "[510 | 1167.29] loss=1.70 avg=2.37\n",
            "[520 | 1189.51] loss=1.68 avg=2.35\n",
            "[530 | 1211.71] loss=1.77 avg=2.33\n",
            "[540 | 1233.93] loss=1.70 avg=2.32\n",
            "[550 | 1256.15] loss=1.16 avg=2.29\n",
            "[560 | 1278.37] loss=1.72 avg=2.28\n",
            "[570 | 1300.60] loss=1.85 avg=2.27\n",
            "[580 | 1322.84] loss=1.50 avg=2.25\n",
            "[590 | 1345.08] loss=1.48 avg=2.23\n",
            "[600 | 1367.30] loss=1.47 avg=2.22\n",
            "Saving checkpoint/run1/model-600\n",
            "======== SAMPLE 1 ========\n",
            " with the big red eyes of the Starks. \"I do not know who your father is, or where he is, or how he got here, until you bring him here . . .\" \n",
            "\"He is your father, not my grandfather. You did not bring me to tell them all, save me, and my own \n",
            "grandmother. I am bringing you to listen to what she has to say. If the other gods will forgive me, I \n",
            "will not look on it as wisdom. Listen to what the firstborn said. If they knew what was good and what \n",
            "was evil, they would have sent someone to do them no favor. Gods alone know what they said.\" \n",
            "Tyrion glanced down again at the logs. His mouth tightened, but he was not done; he gestured. \"Take \n",
            "this sword and this plate and carry it to the khalasar. I will not have it in my hands.\" \n",
            "\"Will you carry it to the khalasar?\" asked the old man with the red face, the heavy silvered cap that \n",
            "came to him in the crypts beneath Winterfell. \"I will, but I will not carry it across the khalasar . . .\" \n",
            "\"The old man is dead.\" Tyrion gestured at the old man in the old man's shadow. The shadow \n",
            "crushers in the crypts. \n",
            "\"I won't take your blades with me if it comes to that,\" the old man in the shadow told the old man, \"and if you \n",
            "leave me then I will not go back to your father.\" The khalasar had become his place, something \n",
            "he knew from memory, a vast green cavern with wings and seas and mountains and endless land, where \n",
            "thousands of sun-andstars had gone forth to make the Seven Kingdoms. That had been his \n",
            "place, as long as he'd known it. Now he could not say which one he had chosen. He tried to put \n",
            "the question aside, to put aside the khalasar forever. \"Tyrion Lannister knows the answer to that.\" \n",
            "Tyrion frowned, but only for a moment. \"The answer is simple, Silver Hand. There is no need for you to carry \n",
            "Page 485\n",
            "\n",
            "that burden. Hold still, let me suggest the wineskins and the linens, and I'll carry the rest.\" \n",
            "Tyrion took a step forward. \"Thank you.\" \n",
            "\"You know, Uncle. The sun and the stars, that is the very essence of music.\" \n",
            "Tyrion grinned. \"When the clansmen were fighting over your mother in the night lands, your father told \n",
            "me that there were songs from her songs . . . and from the dawn years.\" He crossed the room into the corridor \n",
            "that surrounded the throne room. \n",
            "Tyrion Lannister did not step. \n",
            "\"So you meant I would,\" the old man said, turning, his face dark and smiling. \"The Kingslayer has \n",
            "told you that, does that not?\" He was the first man he had ever known to expect to find counsel at the \n",
            "khalasar, the seat of their khas. He listened to every word that came his way, and was ever \n",
            "more eager to discuss the king's brother who bore them \n",
            "down the line in secret by calling them both \"The True Rider.\" \n",
            "\"What we are talking about is The Grand Rider,\" he said. \"The bravo who rides the world without \n",
            "promise, fearless and fearless . . . if the riders are afraid of you, you are the bravo.\" \n",
            "Tyrion grinned, fumbling for a sleeve of old silk, and handed it to the old man in the direwolf's mailed \n",
            "cloak. \"I am sorry to have summoned you, Grand Maester,\" he said. \"You are a different sort \n",
            "of rider, Tyrion. The one true rider, what I have meant to say. The one truly to be feared, The \n",
            "true knight.\" \n",
            "He laid the sleeve of the golden cloak aside and placed it on the bench in front of him. \"My name is Alyn, young lord.\" \n",
            "\"Why are you sitting?\" Tyrion asked, curious. \n",
            "Alyn smoothed the cloak back across his shoulders. \"I am a singer of my tongue, Tyrion. Perhaps you will sing against \n",
            "me.\" \n",
            "Tyrion wanted to point out the singers. \"No. The king cannot hear my words.\" \n",
            "Tyrion smiled. \"I hear your song.\" \n",
            "The song of fear, Tyrion believed, the song of fear of the dragon, of fear of the king . . . \n",
            "He looked at the song, wondering what it meant. \"Why . . . if the dragons are\n",
            "\n",
            "[610 | 1404.25] loss=1.67 avg=2.21\n",
            "[620 | 1426.57] loss=1.77 avg=2.20\n",
            "[630 | 1448.77] loss=1.34 avg=2.18\n",
            "[640 | 1470.98] loss=1.21 avg=2.16\n",
            "[650 | 1493.23] loss=1.12 avg=2.14\n",
            "[660 | 1515.48] loss=1.37 avg=2.12\n",
            "[670 | 1537.75] loss=1.32 avg=2.10\n",
            "[680 | 1560.00] loss=1.65 avg=2.09\n",
            "[690 | 1582.20] loss=1.37 avg=2.08\n",
            "[700 | 1604.44] loss=1.06 avg=2.06\n",
            "[710 | 1626.64] loss=1.75 avg=2.05\n",
            "[720 | 1648.83] loss=1.02 avg=2.03\n",
            "[730 | 1671.04] loss=1.06 avg=2.01\n",
            "[740 | 1693.23] loss=1.50 avg=2.00\n",
            "[750 | 1715.44] loss=0.98 avg=1.99\n",
            "[760 | 1737.64] loss=0.65 avg=1.96\n",
            "[770 | 1759.85] loss=1.08 avg=1.94\n",
            "[780 | 1782.08] loss=0.79 avg=1.92\n",
            "[790 | 1804.29] loss=1.17 avg=1.91\n",
            "[800 | 1826.48] loss=0.79 avg=1.89\n",
            "Saving checkpoint/run1/model-800\n",
            "======== SAMPLE 1 ========\n",
            ". I don't know if you had the right of that, Stiv.\" \n",
            "\"I don't want one,\" Lyanna said. \"I want a thousand golden dragons.\" She thrust a dagger and \n",
            "longsword at his armpits. \"I want the swords as well, Lannister. They're to me their father and the king \n",
            "a brother and a half of Robert. The bronze is mine, Lannister. The silver is mine. I've no coin in me to \n",
            "mine theirs, neither of them can wield these things, I swear them to you. The Tyroshi have no coin in \n",
            "them.\" \n",
            "\"My father and the Hand of the King take their coin from the hoppers under the table, but I can \n",
            "indicate they're still carrying the wine in the milk curd,\" Lyanna said. \"I wanted to bring him here with me, to \n",
            "medicate me. I didn't know you, Lannister, I didn't want to frighten him. I was only fifteen, and a year younger \n",
            "perhaps, but growing up, you took my mother for a maiden. If I look at you now, you look \n",
            "younger than you did when I was little, and a man like her never smelled of motherhood.\" \n",
            "Jon raised one hand. \"Why, Lord Snow was your champion,\" he murmured. \"He was my champion \n",
            "once, and you'll never find someone so beautiful as that of Catelyn. And Lyanna, you'll never find \n",
            "anybody so sad, she's so full of sweet dreams.\" A shudder went up in his Darry's stomach, and a \n",
            "whorlish wail was heard across the hall. Catelyn knew what it was like to ride a horse alone. \n",
            ",,-Osha!\" The hall was booming now. \"What at first glance seems to be a simple summons seem to \n",
            "concerns every man in the hall, so as soon as they feel called to it. But in reality, all it does is open the \n",
            "door for more questions, more possibilities.\" \n",
            "\"Catelyn,\" Jon said loudly. \"You must know the answer before you answer.\" \n",
            ",,-Osha!\" the direwolf turned, smiling. \"You are the queen's true heir, my lord. By all the gods, \n",
            "my brother Rhaegar Targaryen has been King since the day he took his father's throne.\" \n",
            ",,-Osha!\" The red eyes were cruel as they stared at Jon. \"Seven hells, the king's here, and his \n",
            "father's past is gone, and his brother's bloodriders are few among you, and \n",
            "you are three blameless fools who hoped to rule a new beginning. I thank you for your favors. I \n",
            "will make certain that you are brought home as soon as possible, Your Grace.\" In the silence that followed, \n",
            "the queen scarcely raised her head. \"As you wish, m'lord,\" she said. \"Let me tell you about king \n",
            "endorsers.\" \n",
            "\"He was always a groom,\" Jon pointed out. \"His armor was the finest he wore.\" \n",
            "For a moment Eddard stood stiffly by the queen. \"It was the queen's pride these days, my lord,\" \n",
            "he said as the eunuch stroked his pointed beard. \"That she came to him alone, alone \n",
            "and uninvited, that no man could doubt disgrace. That he had come to Florian to groom him.\" \n",
            "\"His knight,\" Ned reminded him. \"The one who rode for my brother Arryn in the morning; the one who \n",
            "Page 541\n",
            "\n",
            "waved his lady wife's face.\" \n",
            "Eddard Stark looked stunned. \"My brother never smiled before, Lord Eddard. Perhaps he did not love \n",
            "you. What does it say about love to be such a useless thing?\" \n",
            "Varys entered as a dawn-teeming hush settled over the yard. Beside the long barred entry barred the \n",
            "door. \"Anxious for your safety, my good lords of Lannister and your concern, I yielded the consort \n",
            "of the king's brothers the honor of a promised seat of council. The gods have heard their wishes.\" \n",
            "\"Ours is no friendliness,\" Ned said. \"We gave her place simply for being a girl, and yet now she sits, as a \n",
            "woman ought to be treated.\" \n",
            "\"Your lady wife\" said Varys, \"she is the blood of the king's family, and has been since I last saw her.\" The \n",
            "silence that followed was covered with vines. Ned pulled a woolen cloak from the \n",
            "sheath beside the table and clasped his over the head. \"My lords,\"\n",
            "\n",
            "[810 | 1861.85] loss=0.76 avg=1.87\n",
            "[820 | 1884.09] loss=0.82 avg=1.85\n",
            "[830 | 1906.30] loss=0.67 avg=1.83\n",
            "[840 | 1928.47] loss=0.93 avg=1.81\n",
            "[850 | 1950.69] loss=0.81 avg=1.80\n",
            "[860 | 1972.94] loss=0.64 avg=1.78\n",
            "[870 | 1995.21] loss=1.05 avg=1.76\n",
            "[880 | 2017.48] loss=1.11 avg=1.75\n",
            "[890 | 2039.77] loss=0.71 avg=1.73\n",
            "[900 | 2062.03] loss=1.10 avg=1.72\n",
            "[910 | 2084.26] loss=0.75 avg=1.71\n",
            "[920 | 2106.52] loss=0.81 avg=1.69\n",
            "[930 | 2128.78] loss=0.73 avg=1.68\n",
            "[940 | 2151.02] loss=0.84 avg=1.66\n",
            "[950 | 2173.28] loss=0.54 avg=1.64\n",
            "[960 | 2195.51] loss=0.46 avg=1.63\n",
            "[970 | 2217.76] loss=0.65 avg=1.61\n",
            "[980 | 2239.97] loss=0.39 avg=1.59\n",
            "[990 | 2262.21] loss=0.54 avg=1.57\n",
            "[1000 | 2284.44] loss=0.38 avg=1.56\n",
            "Saving checkpoint/run1/model-1000\n"
          ]
        }
      ]
    },
    {
      "cell_type": "code",
      "source": [
        "gpt2.copy_checkpoint_to_gdrive(run_name='run1')"
      ],
      "metadata": {
        "id": "eK4tm08rMjMh"
      },
      "execution_count": 7,
      "outputs": []
    },
    {
      "cell_type": "code",
      "source": [
        "gpt2.copy_checkpoint_from_gdrive(run_name='run1')"
      ],
      "metadata": {
        "id": "VYUnIygqZTJL"
      },
      "execution_count": 10,
      "outputs": []
    },
    {
      "cell_type": "code",
      "source": [
        "tf.compat.v1.reset_default_graph()\n",
        "\n",
        "sess = gpt2.start_tf_sess()\n",
        "gpt2.load_gpt2(sess, run_name='run1')"
      ],
      "metadata": {
        "colab": {
          "base_uri": "https://localhost:8080/"
        },
        "id": "2FfOeK1mZvk8",
        "outputId": "b073f638-0c7b-4b14-8125-d3355377e672"
      },
      "execution_count": 12,
      "outputs": [
        {
          "output_type": "stream",
          "name": "stdout",
          "text": [
            "Loading checkpoint checkpoint/run1/model-1000\n"
          ]
        }
      ]
    },
    {
      "cell_type": "markdown",
      "source": [
        "# <span style=\"font-family:cursive;text-align:center\">🧬 Generate Text :</span>"
      ],
      "metadata": {
        "id": "2YLSl82KoQje"
      }
    },
    {
      "cell_type": "code",
      "source": [
        "gpt2.generate(sess, run_name='run1')"
      ],
      "metadata": {
        "colab": {
          "base_uri": "https://localhost:8080/"
        },
        "id": "2McZny-fZ5_r",
        "outputId": "94067c58-0ec6-41f2-bd03-dd7e172d06ab"
      },
      "execution_count": 13,
      "outputs": [
        {
          "output_type": "stream",
          "name": "stdout",
          "text": [
            "She sits there wondering if she's the only girl in the camp.\n",
            "She could be the only girl . . . \n",
            "Brandon was never born. Brandon was meant to be Mirri Maz Duur's. She didn't want to \n",
            "know that. She wanted to be here, and she wanted to be with her, but she had to leave. She had \n",
            "to leave now, or the war would never end. \n",
            "The sun was only a few shades off, and the sky was a deep purple, its fill a deep purple, its \n",
            "snow a deep purple, its blue a deep purple. The winds blew its purple like a blue ribbon, sweeping \n",
            "along the horizon. The stars seemed to dance in and out of sight, and somewhere deep in the \n",
            "sky, a thousand stars sang. \n",
            "Mirri Maz Duur's home grew silent. A song was played, a sigh was made, and \n",
            "Page 404\n",
            "\n",
            "another was made. Finally the rain stopped and Mirri Maz Duur's curtains were pulled \n",
            "down. The air was as cold as the sky above as she and her tent erected a boulder field of dry \n",
            "leaves and twigs, twenty feet deep and twenty feet tall. The ground was brown and hard, and the \n",
            "flakes had turned to stone under the roots, brittle and hard. \n",
            "\"You need a strong wind,\" Dany said. \"It can be a long day camped by the rivers here.\" \n",
            "\"A day camp,\" said Brandon, \"and it's kind of a long one for Lord Jon.\" \n",
            "\"I should like to ride on,\" Dany replied, \"but my clothes are too tight for me. I need a fire and some \n",
            "food, and maybe a hot bath, and that's what I'm cutting right now.\" \n",
            "\"No?\" The sun was well above the rolling hills, rising at an ungodly angle. Dany covered her \n",
            "limbs with a film of dirt and dried blood, trying to keep the last bit of shadow so far away. \n",
            "\"Tomorrow you have to come with us, or we'll have to abandon the Twins.\" \n",
            "The wind had turned to a wail when the tent was yanked loose from her belt and thrown to the \n",
            "wind. Dany's clothes soaked the skin and ripped, and she was soaked so badly she reddened as she struggled to \n",
            "keep hold of the biggest of the bears. \n",
            "\"No,\" Brandon said. \"Tomorrow we have to abandon the Seven Kingdoms. Tomorrow we'll be here in the \n",
            "realm.\" He seemed to think for a moment, then said, \"Leave us. I'll come with you.\" \n",
            "The wind whistled at him. Dany turned her head to the direction they were heading. It was wilder than the \n",
            "real world, far off beyond the cities of the Seven Kingdoms. The tent was stuffed with straw, \n",
            "and a blanket of soft cushions and soft soft cushions. As Dany tightened her arms around the boy, he \n",
            "looked at her with a tired frown and Maester Colemon made a note to remind him that she was \n",
            "a Dothraki. \n",
            "Page 405\n",
            "\n",
            "Maester Colemon listened with a mouthful of water and Dany fingered her knuckles. \"Not far,\" she \n",
            "recited. \n",
            "The khal had commanded them to send men after the women of their levies. Brandon was no \n",
            "older than her, and he might have sworn that if the women of his khalasar dared to mount the defense \n",
            "that Dany had planned, they would be led there, with the women of his khalasar waiting. \n",
            "She could do with a bit more water, and while she was longing for the comfort of her tent, her night \n",
            "walker led her back to her bed, with Brandon leaning on the blanket beside her and Grey Wind padding \n",
            "around her. They had been together for seven days now, and a fierce bond, deep rooted in loyalty. \n",
            "Brandon was Dothraki, and Dany had come north to the Free Cities, to the songs and the \n",
            "falls and the dark roads. He was not the least bit like his father, with his blood green eyes and his \n",
            "grey beard and his mother's dark hair, and her father more like to say the words than act. \n",
            "It was not enough to ride with them, Dany knew; they had to learn to share their burdens, and \n",
            "share their strengths. And with her. \n",
            "They came to her after dusk, as often does. Summer raked the mount, and Dany was surrounded by \n",
            "pigmented \n",
            "Norn Trees in every foot of snow-white snow that fell. The road slipped by in silence and the \n",
            "earth shook with the sound of their\n"
          ]
        }
      ]
    },
    {
      "cell_type": "code",
      "source": [
        "input_sentence = \"Winter is coming\"\n",
        "generated_text = gpt2.generate(sess, run_name='run1',length=50,\n",
        "                               prefix=input_sentence, temperature=0.7,\n",
        "                               top_p=0.9,nsamples=5,batch_size=5,\n",
        "                               return_as_list=True)[0]\n",
        "\n",
        "print(generated_text)"
      ],
      "metadata": {
        "colab": {
          "base_uri": "https://localhost:8080/"
        },
        "id": "XhKsmxKKaRB0",
        "outputId": "d423d9af-a785-49f4-85d8-99c46aac26ee"
      },
      "execution_count": 16,
      "outputs": [
        {
          "output_type": "stream",
          "name": "stdout",
          "text": [
            "Winter is coming. \n",
            "\"I'll stay as long as I have the cold,\" Ned vowed. \"The sun will come up out of the south, and it will be \n",
            "as cold as here in King's Landing.\" \n",
            "\"Cold enough to\n"
          ]
        }
      ]
    },
    {
      "cell_type": "code",
      "source": [
        "input_sentence = \"The common people pray for rain, healthy\"\n",
        "generated_text = gpt2.generate(sess, run_name='run1',length=50,\n",
        "                               prefix=input_sentence, temperature=0.7,\n",
        "                               top_p=0.9,nsamples=5,batch_size=5,\n",
        "                               return_as_list=True)[0]\n",
        "\n",
        "print(generated_text)"
      ],
      "metadata": {
        "colab": {
          "base_uri": "https://localhost:8080/"
        },
        "id": "CZJY_vrjbIYU",
        "outputId": "45b93169-4c27-442d-ada9-260412d21229"
      },
      "execution_count": 19,
      "outputs": [
        {
          "output_type": "stream",
          "name": "stdout",
          "text": [
            "The common people pray for rain, healthy children, and safe homes for their dead. \n",
            "The lords of the Trident have sent men to every man and boy in their father's khalasar, to bring you \n",
            "soon, to King Robert's own door. He has orders to\n"
          ]
        }
      ]
    },
    {
      "cell_type": "code",
      "source": [
        "input_sentence = 'If you would take a man’s life, you owe'\n",
        "\n",
        "generated_text = gpt2.generate(sess, run_name='run1',length=10,\n",
        "                               prefix=input_sentence, temperature=0.7,\n",
        "                               top_p=0.9,nsamples=5,batch_size=5,\n",
        "                               return_as_list=True)[0]\n",
        "\n",
        "print(generated_text)"
      ],
      "metadata": {
        "colab": {
          "base_uri": "https://localhost:8080/"
        },
        "id": "Tklf_tv7b2lD",
        "outputId": "636a0af9-2a28-4f60-a295-3be402d1104e"
      },
      "execution_count": 22,
      "outputs": [
        {
          "output_type": "stream",
          "name": "stdout",
          "text": [
            "If you would take a man’s life, you owe it to me to \n",
            "look into his eyes\n"
          ]
        }
      ]
    },
    {
      "cell_type": "code",
      "source": [
        "input_sentence = 'what is cricket'\n",
        "\n",
        "generated_text = gpt2.generate(sess, run_name='run1',length=50,\n",
        "                               prefix=input_sentence, temperature=0.7,\n",
        "                               top_p=0.9,nsamples=5,batch_size=5,\n",
        "                               return_as_list=True)[0]\n",
        "\n",
        "print(generated_text)"
      ],
      "metadata": {
        "colab": {
          "base_uri": "https://localhost:8080/"
        },
        "id": "2b5VA-VkcuMs",
        "outputId": "785719c7-e488-458f-d863-a7155ccfe300"
      },
      "execution_count": 24,
      "outputs": [
        {
          "output_type": "stream",
          "name": "stdout",
          "text": [
            "what is cricket?\" \n",
            "\"Cricket is for the cricketers,\" Lord Hoster told him. \"They are my blood, and your brother's, and my \n",
            "fighting tongue, and I will not yield to your cravens. Please\n"
          ]
        }
      ]
    }
  ]
}